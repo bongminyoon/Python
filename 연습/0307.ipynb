{
 "cells": [
  {
   "cell_type": "code",
   "execution_count": null,
   "id": "6895de33",
   "metadata": {},
   "outputs": [],
   "source": [
    "a = 1\n",
    "if a != 1:\n",
    "    print(\"1이 아님\")"
   ]
  },
  {
   "cell_type": "code",
   "execution_count": 10,
   "id": "4ca0fb8b",
   "metadata": {},
   "outputs": [
    {
     "name": "stdout",
     "output_type": "stream",
     "text": [
      "yes\n"
     ]
    }
   ],
   "source": [
    "x = True\n",
    "y = False\n",
    "\n",
    "if x or y:\n",
    "    print(\"yes\")\n",
    "else : \n",
    "    print(\"no\")"
   ]
  },
  {
   "cell_type": "code",
   "execution_count": 12,
   "id": "2250a324",
   "metadata": {},
   "outputs": [
    {
     "name": "stdout",
     "output_type": "stream",
     "text": [
      "1이 아님\n"
     ]
    }
   ],
   "source": [
    "a = 1\n",
    "if a != 1:\n",
    "    print(\"1이 아님\") \n",
    "else:\n",
    "    print(\"1이 아님\")  \n"
   ]
  },
  {
   "cell_type": "code",
   "execution_count": 19,
   "id": "bbf9fbc8",
   "metadata": {},
   "outputs": [
    {
     "name": "stdout",
     "output_type": "stream",
     "text": [
      "yes\n"
     ]
    }
   ],
   "source": [
    "x = True\n",
    "y = False\n",
    "\n",
    "if x and not y:\n",
    "    print(\"yes\")\n",
    "else : \n",
    "    print(\"no\")"
   ]
  },
  {
   "cell_type": "code",
   "execution_count": 22,
   "id": "453ede86",
   "metadata": {},
   "outputs": [
    {
     "name": "stdout",
     "output_type": "stream",
     "text": [
      "no\n"
     ]
    }
   ],
   "source": [
    "x = True\n",
    "y = True\n",
    "\n",
    "if x and not y:\n",
    "    print(\"yes\")\n",
    "else : \n",
    "    print(\"no\")\n"
   ]
  },
  {
   "cell_type": "code",
   "execution_count": 27,
   "id": "4f499e57",
   "metadata": {},
   "outputs": [
    {
     "name": "stdout",
     "output_type": "stream",
     "text": [
      "True\n"
     ]
    }
   ],
   "source": [
    "a = [1,2,3,4]\n",
    "b = 3 in a\n",
    "print(b)"
   ]
  },
  {
   "cell_type": "code",
   "execution_count": 28,
   "id": "3ad718ce",
   "metadata": {},
   "outputs": [
    {
     "name": "stdout",
     "output_type": "stream",
     "text": [
      "3\n"
     ]
    }
   ],
   "source": [
    "a = 1\n",
    "b = 2\n",
    "c = a + b\n",
    "\n",
    "print(c)"
   ]
  },
  {
   "cell_type": "code",
   "execution_count": 29,
   "id": "f32a418b",
   "metadata": {},
   "outputs": [
    {
     "data": {
      "text/plain": [
       "3"
      ]
     },
     "execution_count": 29,
     "metadata": {},
     "output_type": "execute_result"
    }
   ],
   "source": [
    "import math\n",
    "\n",
    "int(3.5)"
   ]
  },
  {
   "cell_type": "code",
   "execution_count": 32,
   "id": "5d4f7d9b",
   "metadata": {},
   "outputs": [
    {
     "name": "stdout",
     "output_type": "stream",
     "text": [
      "동해 물과 백두산이 마르고 닳도록 하느님이 보우하사 우리나라 만세\n",
      "동해 물과 백두산이 마르고 닳도록 하느님이 보우하사 우리나라 만세\n",
      "동해 물과 백두산이 마르고 닳도록 하느님이 보우하사 우리나라 만세\n"
     ]
    }
   ],
   "source": [
    "print(\"동해 물과 백두산이 마르고 닳도록 하느님이 보우하사 우리나라 만세\")\n",
    "\n",
    "print(\"동해 물과 백두산이 마르고 닳도록 하느님이 보우하사 우리나라 만세\")\n",
    "\n",
    "print(\"동해 물과 백두산이 마르고 닳도록 하느님이 보우하사 우리나라 만세\")"
   ]
  },
  {
   "cell_type": "code",
   "execution_count": 40,
   "id": "c94d6718",
   "metadata": {},
   "outputs": [
    {
     "name": "stdout",
     "output_type": "stream",
     "text": [
      "동해 물과 백두산이 마르고 닳도록 하느님이 보우하사 우리나라 만세\n",
      "동해 물과 백두산이 마르고 닳도록 하느님이 보우하사 우리나라 만세\n",
      "동해 물과 백두산이 마르고 닳도록 하느님이 보우하사 우리나라 만세\n"
     ]
    }
   ],
   "source": [
    "korea = \"동해 물과 백두산이 마르고 닳도록 하느님이 보우하사 우리나라 만세\"\n",
    "\n",
    "print (korea)\n",
    "\n",
    "print (korea)\n",
    "\n",
    "print (korea)"
   ]
  },
  {
   "cell_type": "code",
   "execution_count": null,
   "id": "86e23844",
   "metadata": {},
   "outputs": [],
   "source": []
  }
 ],
 "metadata": {
  "kernelspec": {
   "display_name": "Python 3 (ipykernel)",
   "language": "python",
   "name": "python3"
  },
  "language_info": {
   "codemirror_mode": {
    "name": "ipython",
    "version": 3
   },
   "file_extension": ".py",
   "mimetype": "text/x-python",
   "name": "python",
   "nbconvert_exporter": "python",
   "pygments_lexer": "ipython3",
   "version": "3.9.13"
  }
 },
 "nbformat": 4,
 "nbformat_minor": 5
}
