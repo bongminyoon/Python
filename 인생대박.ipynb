{
 "cells": [
  {
   "cell_type": "code",
   "execution_count": 8,
   "id": "8c72059d",
   "metadata": {},
   "outputs": [
    {
     "name": "stdout",
     "output_type": "stream",
     "text": [
      "로또 번호: [2, 3, 4, 13, 22, 37]\n"
     ]
    }
   ],
   "source": [
    "import random\n",
    "\n",
    "def generate_lotto_numbers():\n",
    "    lotto_numbers = []\n",
    "    \n",
    "    while len(lotto_numbers) < 6:\n",
    "        number = random.randint(1, 45)  # 1부터 45까지의 숫자 중 랜덤하게 선택\n",
    "        if number not in lotto_numbers:  # 중복된 숫자 방지\n",
    "            lotto_numbers.append(number)\n",
    "    \n",
    "    lotto_numbers.sort()  # 오름차순으로 정렬\n",
    "    return lotto_numbers\n",
    "\n",
    "if __name__ == \"__main__\":\n",
    "    lotto = generate_lotto_numbers()\n",
    "    print(\"로또 번호:\", lotto)\n"
   ]
  },
  {
   "cell_type": "code",
   "execution_count": null,
   "id": "587ad549",
   "metadata": {},
   "outputs": [],
   "source": []
  },
  {
   "cell_type": "code",
   "execution_count": null,
   "id": "44918476",
   "metadata": {},
   "outputs": [],
   "source": []
  },
  {
   "cell_type": "code",
   "execution_count": null,
   "id": "d3728eb6",
   "metadata": {},
   "outputs": [],
   "source": []
  },
  {
   "cell_type": "code",
   "execution_count": null,
   "id": "b6c3c531",
   "metadata": {},
   "outputs": [],
   "source": []
  },
  {
   "cell_type": "code",
   "execution_count": null,
   "id": "49e6ad4e",
   "metadata": {},
   "outputs": [],
   "source": []
  }
 ],
 "metadata": {
  "kernelspec": {
   "display_name": "Python 3 (ipykernel)",
   "language": "python",
   "name": "python3"
  },
  "language_info": {
   "codemirror_mode": {
    "name": "ipython",
    "version": 3
   },
   "file_extension": ".py",
   "mimetype": "text/x-python",
   "name": "python",
   "nbconvert_exporter": "python",
   "pygments_lexer": "ipython3",
   "version": "3.9.13"
  }
 },
 "nbformat": 4,
 "nbformat_minor": 5
}
