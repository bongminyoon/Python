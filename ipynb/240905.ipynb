{
  "nbformat": 4,
  "nbformat_minor": 0,
  "metadata": {
    "colab": {
      "provenance": [],
      "authorship_tag": "ABX9TyOjh0OtA47s7Qafgv6kobMT",
      "include_colab_link": true
    },
    "kernelspec": {
      "name": "python3",
      "display_name": "Python 3"
    },
    "language_info": {
      "name": "python"
    }
  },
  "cells": [
    {
      "cell_type": "markdown",
      "metadata": {
        "id": "view-in-github",
        "colab_type": "text"
      },
      "source": [
        "<a href=\"https://colab.research.google.com/github/bongminyoon/bong/blob/main/240905.ipynb\" target=\"_parent\"><img src=\"https://colab.research.google.com/assets/colab-badge.svg\" alt=\"Open In Colab\"/></a>"
      ]
    },
    {
      "cell_type": "code",
      "execution_count": null,
      "metadata": {
        "colab": {
          "base_uri": "https://localhost:8080/"
        },
        "id": "a951U9ddG1go",
        "outputId": "5240d2ef-8e49-451d-b384-9eb6d13b1cfa"
      },
      "outputs": [
        {
          "output_type": "stream",
          "name": "stdout",
          "text": [
            "0\n",
            "공부시간=2, 실제점수=81, 예측점수=82\n",
            "1\n",
            "공부시간=4, 실제점수=93, 예측점수=88\n",
            "2\n",
            "공부시간=6, 실제점수=91, 예측점수=94\n",
            "3\n",
            "공부시간=8, 실제점수=97, 예측점수=100\n",
            "평균 제곱 오차:   11.0\n"
          ]
        }
      ],
      "source": [
        "import numpy as np\n",
        "\n",
        "fake_a = 3\n",
        "fake_b = 76\n",
        "\n",
        "x = np.array([2,4,6,8])\n",
        "y = np.array([81,93,91,97])\n",
        "\n",
        "def predict(x):\n",
        "    return fake_a * x + fake_b\n",
        "\n",
        "\n",
        "predict_result = []\n",
        "\n",
        "for i in range(len(x)):\n",
        "    print(i)\n",
        "    predict_result.append(predict(x[i]))\n",
        "    print(\"공부시간=%.f, 실제점수=%.f, 예측점수=%.f\" % (x[i], y[i], predict(x[i])))\n",
        "\n",
        "\n",
        "n = len(x)\n",
        "def mse(y,y_pred) :\n",
        "  return (1/n) * sum((y-y_pred)**2)\n",
        "\n",
        "print(\"평균 제곱 오차:  \" , str(mse(y, predict_result)))"
      ]
    }
  ]
}
