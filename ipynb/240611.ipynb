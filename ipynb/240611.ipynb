{
  "nbformat": 4,
  "nbformat_minor": 0,
  "metadata": {
    "colab": {
      "provenance": [],
      "gpuType": "T4",
      "include_colab_link": true
    },
    "kernelspec": {
      "name": "python3",
      "display_name": "Python 3"
    },
    "language_info": {
      "name": "python"
    },
    "accelerator": "GPU"
  },
  "cells": [
    {
      "cell_type": "markdown",
      "metadata": {
        "id": "view-in-github",
        "colab_type": "text"
      },
      "source": [
        "<a href=\"https://colab.research.google.com/github/bongminyoon/bong/blob/main/240611.ipynb\" target=\"_parent\"><img src=\"https://colab.research.google.com/assets/colab-badge.svg\" alt=\"Open In Colab\"/></a>"
      ]
    },
    {
      "cell_type": "code",
      "execution_count": null,
      "metadata": {
        "colab": {
          "base_uri": "https://localhost:8080/"
        },
        "id": "msiTEhaZ55_t",
        "outputId": "8f6eac67-4603-4dc6-c87e-eccaeb4d7af8"
      },
      "outputs": [
        {
          "output_type": "stream",
          "name": "stdout",
          "text": [
            "Collecting bing-image-downloader\n",
            "  Downloading bing_image_downloader-1.1.2-py3-none-any.whl (5.9 kB)\n",
            "Installing collected packages: bing-image-downloader\n",
            "Successfully installed bing-image-downloader-1.1.2\n"
          ]
        }
      ],
      "source": [
        "!pip install bing-image-downloader"
      ]
    },
    {
      "cell_type": "code",
      "source": [
        "from bing_image_downloader import downloader # bing_image_downloader 모듈에서 downloader를 가져옴\n",
        "\n",
        "from pathlib import Path # pathlib 모듈에서 Path를 가져옴\n",
        "\n",
        "\n",
        "def download_images(keyword, num_images, file_name):\n",
        "\n",
        "    output_directory = \"공룡상\" # 이미지를 저장할 폴더 이름\n",
        "\n",
        "\n",
        "\n",
        "    downloader.download(keyword, limit=num_images, output_dir=output_directory, adult_filter_off=True, force_replace=False, timeout=60)\n",
        "    # 이미지 다운로드\n",
        "\n",
        "\n",
        "\n",
        "    root = Path().cwd() / output_directory # 이미지 저장 폴더의 경로\n",
        "\n",
        "    downloaded_files = list(root.glob(\"*.*\")) # 폴더 내 모든 파일 가져오기\n",
        "\n",
        "    for i, file in enumerate(downloaded_files): # 다운로드된 각 파일에 대해 반복\n",
        "\n",
        "        extension = file.suffix # 파일 확장자\n",
        "\n",
        "        new_file_name = f\"{file_name}{i+1}{extension}\" # 새로운 파일 이름\n",
        "\n",
        "        new_file_path = root / new_file_name # 새로운 파일 경로\n",
        "\n",
        "        file.rename(new_file_path) # 파일 이름 변경\n"
      ],
      "metadata": {
        "id": "PezqnsBW6z8C"
      },
      "execution_count": null,
      "outputs": []
    },
    {
      "cell_type": "code",
      "source": [
        "# 사용 예시\n",
        "\n",
        "keyword = \"공유\" # 이미지 검색 키워드\n",
        "\n",
        "num_images = 20 # 다운로드할 이미지 수\n",
        "\n",
        "file_name = \"공유\" # 파일 이름"
      ],
      "metadata": {
        "id": "i7rN9bKy7LbI"
      },
      "execution_count": null,
      "outputs": []
    },
    {
      "cell_type": "code",
      "source": [
        "from google.colab import drive\n",
        "drive.mount('/content/drive')"
      ],
      "metadata": {
        "colab": {
          "base_uri": "https://localhost:8080/"
        },
        "id": "NDRqRbXh7asR",
        "outputId": "cf27621f-85ad-4949-f77c-568d6827bc0d"
      },
      "execution_count": null,
      "outputs": [
        {
          "output_type": "stream",
          "name": "stdout",
          "text": [
            "Mounted at /content/drive\n"
          ]
        }
      ]
    },
    {
      "cell_type": "code",
      "source": [
        "download_images(keyword, num_images, file_name) # 이미지 다운로드"
      ],
      "metadata": {
        "colab": {
          "base_uri": "https://localhost:8080/"
        },
        "id": "GG2xNQnP7kpA",
        "outputId": "9f39f86f-6574-43c3-c4e0-d62340ce7152"
      },
      "execution_count": null,
      "outputs": [
        {
          "output_type": "stream",
          "name": "stdout",
          "text": [
            "[%] Downloading Images to /content/공룡상/공유\n",
            "\n",
            "\n",
            "[!!]Indexing page: 1\n",
            "\n",
            "[%] Indexed 20 Images on Page 1.\n",
            "\n",
            "===============================================\n",
            "\n",
            "[%] Downloading Image #1 from https://image.cine21.com/resize/cine21/person/2019/1030/11_35_56__5db8f70c422b9[X252,310].jpg\n",
            "[%] File Downloaded !\n",
            "\n",
            "[%] Downloading Image #2 from https://cdn.topclass.chosun.com/news/photo/201911/5248_17966_5600.jpg\n",
            "[%] File Downloaded !\n",
            "\n",
            "[%] Downloading Image #3 from https://thumb.mtstarnews.com/06/2017/05/2017053016383434199_1.jpg\n",
            "[%] File Downloaded !\n",
            "\n",
            "[%] Downloading Image #4 from https://img.hankyung.com/photo/201706/03.14067472.1.jpg\n",
            "[%] File Downloaded !\n",
            "\n",
            "[%] Downloading Image #5 from https://cdnweb01.wikitree.co.kr/webdata/editor/201712/15/img_20171215100626_e897f46b.jpg\n",
            "[%] File Downloaded !\n",
            "\n",
            "[%] Downloading Image #6 from https://i.pinimg.com/originals/2f/45/ab/2f45ab622787b48a7ffd348516f162dd.jpg\n",
            "[%] File Downloaded !\n",
            "\n",
            "[%] Downloading Image #7 from http://jmagazine.joins.com/_data/photo/2017/02/3717694133_QR14Ma50_1.jpg\n",
            "[%] File Downloaded !\n",
            "\n",
            "[%] Downloading Image #8 from https://digitalchosun.dizzo.com/site/data/img_dir/2021/04/16/2021041680142_0.jpg\n",
            "[%] File Downloaded !\n",
            "\n",
            "[%] Downloading Image #9 from https://www.nemopan.com/files/attach/images/6294/013/286/013/58b2d18e10167cfee188abc2a76a5262.jpg\n",
            "[%] File Downloaded !\n",
            "\n",
            "[%] Downloading Image #10 from https://i.pinimg.com/736x/fb/0a/c5/fb0ac58b33fb59f4d018d6da8f9b1736.jpg\n",
            "[%] File Downloaded !\n",
            "\n",
            "[%] Downloading Image #11 from https://cdn.huffingtonpost.kr/news/photo/202112/115087_221695.png\n",
            "[Error]Invalid image, not saving https://cdn.huffingtonpost.kr/news/photo/202112/115087_221695.png\n",
            "\n",
            "[!] Issue getting: https://cdn.huffingtonpost.kr/news/photo/202112/115087_221695.png\n",
            "[!] Error:: Invalid image, not saving https://cdn.huffingtonpost.kr/news/photo/202112/115087_221695.png\n",
            "\n",
            "[%] Downloading Image #11 from https://thumb.mt.co.kr/06/2019/12/2019121209230545525_1.jpg/dims/optimize/\n",
            "[%] File Downloaded !\n",
            "\n",
            "[%] Downloading Image #12 from https://d2u3dcdbebyaiu.cloudfront.net/uploads/atch_img/881/88e4f3be5915b2ed8e733c8429b4e4ba_res.jpeg\n",
            "[%] File Downloaded !\n",
            "\n",
            "[%] Downloading Image #13 from https://img.sbs.co.kr/newsnet/etv/upload/2019/06/24/30000629789_1280.jpg\n",
            "[%] File Downloaded !\n",
            "\n",
            "[%] Downloading Image #14 from https://i.pinimg.com/originals/fd/6a/b5/fd6ab531f3addf29166b77425c306130.jpg\n",
            "[%] File Downloaded !\n",
            "\n",
            "[%] Downloading Image #15 from https://upload.wikimedia.org/wikipedia/commons/4/41/Gong_Yoo_%28Sep_2016%29.png\n",
            "[%] File Downloaded !\n",
            "\n",
            "[%] Downloading Image #16 from https://gongu.copyright.or.kr/editorUpload/2021052114454231fb06e3-7c86-4542-9a5a-0b62e3ada0b2.jpg\n",
            "[%] File Downloaded !\n",
            "\n",
            "[%] Downloading Image #17 from https://platum.kr/wp-content/uploads/2022/07/kk.jpg\n",
            "[%] File Downloaded !\n",
            "\n",
            "[%] Downloading Image #18 from https://image.ytn.co.kr/general/jpg/2016/0718/201607181500066738_d.jpg\n",
            "[%] File Downloaded !\n",
            "\n",
            "[%] Downloading Image #19 from https://i.pinimg.com/originals/2d/05/02/2d0502c5f697e9dfbe3cacb954f76946.jpg\n",
            "[%] File Downloaded !\n",
            "\n",
            "\n",
            "\n",
            "[!!]Indexing page: 2\n",
            "\n",
            "[%] Indexed 35 Images on Page 2.\n",
            "\n",
            "===============================================\n",
            "\n",
            "[%] Downloading Image #20 from https://uchuwiki.com/wiki/images/e/e6/Gongyoo.jpg\n",
            "[%] File Downloaded !\n",
            "\n",
            "\n",
            "\n",
            "[%] Done. Downloaded 20 images.\n"
          ]
        }
      ]
    },
    {
      "cell_type": "code",
      "source": [
        "import shutil\n",
        "\n",
        "def compress_folder(folder_path, output_path):\n",
        "    shutil.make_archive(output_path, 'zip', folder_path)\n",
        "\n",
        "# 이미지 저장 폴더 압축\n",
        "folder_path = \"공룡상\"\n",
        "output_path = \"공룡상이미지\"\n",
        "compress_folder(folder_path, output_path)\n"
      ],
      "metadata": {
        "id": "8OIHV2zS8mhI"
      },
      "execution_count": null,
      "outputs": []
    }
  ]
}
