{
 "cells": [
  {
   "cell_type": "code",
   "execution_count": 7,
   "id": "c5955020-7a4d-45d7-872a-9b8cf8c88f36",
   "metadata": {},
   "outputs": [
    {
     "name": "stdout",
     "output_type": "stream",
     "text": [
      "파이썬의 기능만으로 계산한 결과 : 1.93[sec]\n",
      "Numpy의 기능만으로 계산한 결과 : 0.00[sec]\n"
     ]
    }
   ],
   "source": [
    "import numpy as np\n",
    "import time\n",
    "from numpy.random import rand\n",
    "\n",
    "n = 150\n",
    "\n",
    "matA = np.array(rand(n, n))\n",
    "matB = np.array(rand(n, n))\n",
    "matC = np.array([[0] * n for _ in range(n)]) \n",
    "\n",
    "start = time.time()\n",
    "\n",
    "for i in range(n):\n",
    "    for j in range(n):\n",
    "        for k in range(n):\n",
    "            matC[i][j] = matA[i][k] * matB[k][j]\n",
    "print(\"파이썬의 기능만으로 계산한 결과 : %.2f[sec]\" % float(time.time() -start))\n",
    "\n",
    "start = time.time()\n",
    "matC - np.dot(matA, matB)\n",
    "\n",
    "print(\"Numpy의 기능만으로 계산한 결과 : %.2f[sec]\" % float(time.time() -start))"
   ]
  },
  {
   "cell_type": "code",
   "execution_count": 10,
   "id": "9c5aad1d-1753-4c33-a514-e2c1b1837f9a",
   "metadata": {},
   "outputs": [
    {
     "name": "stdout",
     "output_type": "stream",
     "text": [
      "[24, 3, 4, 23, 10, 12]\n",
      "<class 'numpy.ndarray'>\n"
     ]
    }
   ],
   "source": [
    "import numpy as np\n",
    "\n",
    "storages = [ 24, 3, 4, 23, 10, 12]\n",
    "print(storages)\n",
    "\n",
    "np_storages = np.array(storages)\n",
    "\n",
    "print(type(np_storages))"
   ]
  },
  {
   "cell_type": "code",
   "execution_count": 16,
   "id": "35c98895-a0e0-4c0c-97f9-77cc09adf7db",
   "metadata": {},
   "outputs": [
    {
     "name": "stdout",
     "output_type": "stream",
     "text": [
      "[2, 4, 6, 8]\n"
     ]
    }
   ],
   "source": [
    "storages = [ 1,2,3,4]\n",
    "new_storages = []\n",
    "for n in storages:\n",
    "    n += n \n",
    "    new_storages.append(n)\n",
    "print(new_storages)"
   ]
  },
  {
   "cell_type": "code",
   "execution_count": 18,
   "id": "e23661ca-ced1-4c85-82ce-84434d1f7d01",
   "metadata": {},
   "outputs": [
    {
     "name": "stdout",
     "output_type": "stream",
     "text": [
      "[2 4 6 8]\n"
     ]
    }
   ],
   "source": [
    "import numpy as np\n",
    "storages = np.array([1,2,3,4])\n",
    "storages += storages\n",
    "print(storages)\n"
   ]
  },
  {
   "cell_type": "code",
   "execution_count": 19,
   "id": "19952773-85bc-4fa4-b20e-26ebbd5105ac",
   "metadata": {},
   "outputs": [
    {
     "name": "stdout",
     "output_type": "stream",
     "text": [
      "arr+arr\n",
      "[ 4 10  6  8 16]\n",
      "arr-arr\n",
      "[0 0 0 0 0]\n",
      "arr**3\n",
      "[  8 125  27  64 512]\n",
      "1/arr\n",
      "[0.5        0.2        0.33333333 0.25       0.125     ]\n"
     ]
    }
   ],
   "source": [
    "arr = np.array([2,5,3,4,8])\n",
    "\n",
    "print('arr+arr')\n",
    "print(arr+arr)\n",
    "\n",
    "print('arr-arr')\n",
    "print(arr-arr)\n",
    "\n",
    "print('arr**3')\n",
    "print(arr**3)\n",
    "\n",
    "print('1/arr')\n",
    "print(1 / arr)\n"
   ]
  },
  {
   "cell_type": "raw",
   "id": "9de1eea2-4607-4e50-a565-233b99f7f75e",
   "metadata": {},
   "source": []
  },
  {
   "cell_type": "code",
   "execution_count": 23,
   "id": "0e36fa0a-8b46-4a98-a4ba-ddf4878504b6",
   "metadata": {},
   "outputs": [
    {
     "name": "stdout",
     "output_type": "stream",
     "text": [
      "[0 1 2 3 4 5 6 7 8 9]\n",
      "[3 4 5]\n",
      "[ 0  1  2 24 24 24  6  7  8  9]\n"
     ]
    }
   ],
   "source": [
    "import numpy as np\n",
    "\n",
    "arr = np.arange(10)\n",
    "print(arr)\n",
    "\n",
    "print(arr[3:6])\n",
    "\n",
    "arr[3:6] = 24\n",
    "\n",
    "print(arr)"
   ]
  },
  {
   "cell_type": "code",
   "execution_count": 26,
   "id": "e987a500-6130-4f99-9ef1-4a16908a107b",
   "metadata": {},
   "outputs": [
    {
     "name": "stdout",
     "output_type": "stream",
     "text": [
      "[1 2 3 4 5]\n",
      "[100   2   3   4   5]\n",
      "[1 2 3 4 5]\n",
      "[1 2 3 4 5]\n"
     ]
    }
   ],
   "source": [
    "arr1 = np.array([1,2,3,4,5])\n",
    "\n",
    "print(arr1)\n",
    "\n",
    "arr2=arr1\n",
    "arr2[0]= 100\n",
    "print(arr1)\n",
    "\n",
    "arr1 = np.array([1,2,3,4,5])\n",
    "print(arr1)\n",
    "\n",
    "arr2 = arr1.copy()\n",
    "arr2[0] = 100\n",
    "\n",
    "print(arr1)"
   ]
  },
  {
   "cell_type": "code",
   "execution_count": 30,
   "id": "2586d75a-3160-4695-8a59-79a41b0eb80b",
   "metadata": {},
   "outputs": [
    {
     "name": "stdout",
     "output_type": "stream",
     "text": [
      "[ True False  True False  True False]\n",
      "[2 4 6]\n"
     ]
    }
   ],
   "source": [
    "import numpy as np\n",
    "arr = np.array([2,3,4,5,6,7])\n",
    "\n",
    "print(arr%2 == 0)\n",
    "\n",
    "print(arr[arr %2 == 0])"
   ]
  },
  {
   "cell_type": "code",
   "execution_count": 31,
   "id": "74674cba-90b7-4402-bec2-f78ac3ffa070",
   "metadata": {},
   "outputs": [
    {
     "name": "stdout",
     "output_type": "stream",
     "text": [
      "[2 4 6]\n"
     ]
    }
   ],
   "source": [
    "arr = np.array([2,4,6,7])\n",
    "print(arr[np.array([True,True,True,False])])"
   ]
  },
  {
   "cell_type": "code",
   "execution_count": 32,
   "id": "0af406fa-7505-496b-a1d3-32fb5e194385",
   "metadata": {},
   "outputs": [
    {
     "name": "stdout",
     "output_type": "stream",
     "text": [
      "[4 7]\n"
     ]
    }
   ],
   "source": [
    "arr = np.array([2,4,6,7])\n",
    "print(arr[arr%3==1])"
   ]
  },
  {
   "cell_type": "code",
   "execution_count": 34,
   "id": "2a6a192c-838a-4218-b0fc-78e8a85b5cc8",
   "metadata": {},
   "outputs": [
    {
     "name": "stdout",
     "output_type": "stream",
     "text": [
      "[ 4 -9 16 -4 20]\n",
      "[ 4  9 16  4 20]\n",
      "[5.45981500e+01 8.10308393e+03 8.88611052e+06 5.45981500e+01\n",
      " 4.85165195e+08]\n",
      "[2.         3.         4.         2.         4.47213595]\n"
     ]
    }
   ],
   "source": [
    "import numpy as np\n",
    "\n",
    "arr = np.array([4,-9,16,-4,20])\n",
    "print(arr)\n",
    "\n",
    "arr_abs = np.abs(arr)\n",
    "print(arr_abs)\n",
    "\n",
    "print(np.exp(arr_abs))\n",
    "print(np.sqrt(arr_abs))"
   ]
  },
  {
   "cell_type": "code",
   "execution_count": 41,
   "id": "895a72ed-d934-4e15-a68f-015b6028d25b",
   "metadata": {},
   "outputs": [
    {
     "name": "stdout",
     "output_type": "stream",
     "text": [
      "[2 5 7 9]\n",
      "[1 2 3 5 7 8 9]\n",
      "[2 5]\n",
      "[7 9]\n"
     ]
    }
   ],
   "source": [
    "import numpy as np\n",
    "\n",
    "arr1= [2,5,7,9,5,2,]\n",
    "arr2= [2,5,8,3,1]\n",
    "\n",
    "new_arr1 = np.unique(arr1)\n",
    "print(new_arr1)\n",
    "\n",
    "print(np.union1d(new_arr1,arr2))\n",
    "\n",
    "print(np.intersect1d(new_arr1, arr2))\n",
    "print(np.setdiff1d(new_arr1,arr2))\n"
   ]
  },
  {
   "cell_type": "code",
   "execution_count": 46,
   "id": "5f879d28-4edf-4bdf-85e5-239bec33ec26",
   "metadata": {},
   "outputs": [
    {
     "name": "stdout",
     "output_type": "stream",
     "text": [
      "[[10  6]\n",
      " [ 2  5]\n",
      " [ 4  7]\n",
      " [ 8  0]\n",
      " [ 0  0]]\n",
      "[0.1608302  0.02962341 0.07163019]\n"
     ]
    }
   ],
   "source": [
    "import numpy as np\n",
    "from numpy.random import randint\n",
    "\n",
    "arr1 = randint(0,11, (5 ,2))\n",
    "print(arr1)\n",
    "\n",
    "arr2 = np.random.rand(3)\n",
    "print(arr2)\n"
   ]
  },
  {
   "cell_type": "code",
   "execution_count": 48,
   "id": "6360ee49-4dfa-4cee-aef2-0bb29c4e3739",
   "metadata": {},
   "outputs": [
    {
     "name": "stdout",
     "output_type": "stream",
     "text": [
      "[[1 2 3 4]\n",
      " [5 6 7 8]]\n",
      "(2, 4)\n",
      "[[1 2]\n",
      " [3 4]\n",
      " [5 6]\n",
      " [7 8]]\n"
     ]
    }
   ],
   "source": [
    "import numpy as np\n",
    "\n",
    "arr = np.array([[1,2,3,4,], [5,6,7,8]])\n",
    "print(arr)\n",
    "\n",
    "print(arr.shape)\n",
    "\n",
    "print(arr.reshape(4,2))"
   ]
  }
 ],
 "metadata": {
  "kernelspec": {
   "display_name": "Python 3 (ipykernel)",
   "language": "python",
   "name": "python3"
  },
  "language_info": {
   "codemirror_mode": {
    "name": "ipython",
    "version": 3
   },
   "file_extension": ".py",
   "mimetype": "text/x-python",
   "name": "python",
   "nbconvert_exporter": "python",
   "pygments_lexer": "ipython3",
   "version": "3.9.6"
  }
 },
 "nbformat": 4,
 "nbformat_minor": 5
}
