{
  "nbformat": 4,
  "nbformat_minor": 0,
  "metadata": {
    "colab": {
      "provenance": [],
      "authorship_tag": "ABX9TyOMAYmkM6929BLLFulXeq9i",
      "include_colab_link": true
    },
    "kernelspec": {
      "name": "python3",
      "display_name": "Python 3"
    },
    "language_info": {
      "name": "python"
    }
  },
  "cells": [
    {
      "cell_type": "markdown",
      "metadata": {
        "id": "view-in-github",
        "colab_type": "text"
      },
      "source": [
        "<a href=\"https://colab.research.google.com/github/bongminyoon/bong/blob/main/240902_3.ipynb\" target=\"_parent\"><img src=\"https://colab.research.google.com/assets/colab-badge.svg\" alt=\"Open In Colab\"/></a>"
      ]
    },
    {
      "cell_type": "code",
      "execution_count": null,
      "metadata": {
        "colab": {
          "base_uri": "https://localhost:8080/"
        },
        "id": "7167KgpMfMEs",
        "outputId": "c1f4dab9-01bc-42cd-f19c-1e9ab2320556"
      },
      "outputs": [
        {
          "output_type": "stream",
          "name": "stdout",
          "text": [
            "철수\n",
            "영희\n"
          ]
        }
      ],
      "source": [
        "#변수에 '철수'를 담기\n",
        "name = '철수'\n",
        "print(name)\n",
        "\n",
        "name = '영희'\n",
        "print(name)\n"
      ]
    },
    {
      "cell_type": "code",
      "source": [
        "score"
      ],
      "metadata": {
        "colab": {
          "base_uri": "https://localhost:8080/",
          "height": 147
        },
        "id": "usClY1nkfZgQ",
        "outputId": "9915ed60-ee24-499b-e4c8-b321b12c81e6"
      },
      "execution_count": null,
      "outputs": [
        {
          "output_type": "error",
          "ename": "NameError",
          "evalue": "name 'score' is not defined",
          "traceback": [
            "\u001b[0;31m---------------------------------------------------------------------------\u001b[0m",
            "\u001b[0;31mNameError\u001b[0m                                 Traceback (most recent call last)",
            "\u001b[0;32m<ipython-input-2-d2d780e36333>\u001b[0m in \u001b[0;36m<cell line: 1>\u001b[0;34m()\u001b[0m\n\u001b[0;32m----> 1\u001b[0;31m \u001b[0mscore\u001b[0m\u001b[0;34m\u001b[0m\u001b[0;34m\u001b[0m\u001b[0m\n\u001b[0m",
            "\u001b[0;31mNameError\u001b[0m: name 'score' is not defined"
          ]
        }
      ]
    },
    {
      "cell_type": "code",
      "source": [
        "2_name = '철수, 영희'"
      ],
      "metadata": {
        "colab": {
          "base_uri": "https://localhost:8080/",
          "height": 110
        },
        "id": "u2jS6ivJfyxt",
        "outputId": "9239967c-aa1b-4d0b-d2e2-7c7437ec5a4b"
      },
      "execution_count": null,
      "outputs": [
        {
          "output_type": "error",
          "ename": "SyntaxError",
          "evalue": "invalid decimal literal (<ipython-input-4-6219591350ef>, line 1)",
          "traceback": [
            "\u001b[0;36m  File \u001b[0;32m\"<ipython-input-4-6219591350ef>\"\u001b[0;36m, line \u001b[0;32m1\u001b[0m\n\u001b[0;31m    2_name = '철수, 영희'\u001b[0m\n\u001b[0m     ^\u001b[0m\n\u001b[0;31mSyntaxError\u001b[0m\u001b[0;31m:\u001b[0m invalid decimal literal\n"
          ]
        }
      ]
    },
    {
      "cell_type": "code",
      "source": [
        "a = 11\n",
        "b = 4\n",
        "\n",
        "print(a+b)\n",
        "print(a-b)\n",
        "print(a*b)\n",
        "print(a/b)\n",
        "print(a//b)\n",
        "print(a%b)\n",
        "print(a**b)"
      ],
      "metadata": {
        "colab": {
          "base_uri": "https://localhost:8080/"
        },
        "id": "n3UxYn7-hz6j",
        "outputId": "d9eb9921-a980-4b95-a2d0-5e608884f6c5"
      },
      "execution_count": null,
      "outputs": [
        {
          "output_type": "stream",
          "name": "stdout",
          "text": [
            "15\n",
            "7\n",
            "44\n",
            "2.75\n",
            "2\n",
            "3\n",
            "14641\n"
          ]
        }
      ]
    },
    {
      "cell_type": "code",
      "source": [
        "a = 11\n",
        "b = 4\n",
        "\n",
        "print(a<b)\n",
        "print(a<=b)\n",
        "print(a>b)\n",
        "print(a>=b)\n",
        "print(a==b)\n",
        "print(a!=b)"
      ],
      "metadata": {
        "colab": {
          "base_uri": "https://localhost:8080/"
        },
        "id": "AR3r9B76igEU",
        "outputId": "2c3abe64-6ac3-4220-d496-a0f2f067006c"
      },
      "execution_count": null,
      "outputs": [
        {
          "output_type": "stream",
          "name": "stdout",
          "text": [
            "False\n",
            "False\n",
            "True\n",
            "True\n",
            "False\n",
            "True\n"
          ]
        }
      ]
    },
    {
      "cell_type": "code",
      "source": [
        "A = 3\n",
        "B = [1,3,5,7,9]\n",
        "\n",
        "print(A in B)\n",
        "print(A not in B)\n"
      ],
      "metadata": {
        "colab": {
          "base_uri": "https://localhost:8080/"
        },
        "id": "UddoGGPkiqbM",
        "outputId": "62831b75-a827-4e06-f90b-e018215dde6e"
      },
      "execution_count": null,
      "outputs": [
        {
          "output_type": "stream",
          "name": "stdout",
          "text": [
            "True\n",
            "False\n"
          ]
        }
      ]
    },
    {
      "cell_type": "code",
      "source": [
        "PI = 3.14\n",
        "5.5 * 5.5 * PI"
      ],
      "metadata": {
        "colab": {
          "base_uri": "https://localhost:8080/"
        },
        "id": "6rzS9rQIkLZ_",
        "outputId": "ae0bf324-556d-4481-f4ff-eb32cef6f46b"
      },
      "execution_count": null,
      "outputs": [
        {
          "output_type": "execute_result",
          "data": {
            "text/plain": [
              "94.985"
            ]
          },
          "metadata": {},
          "execution_count": 10
        }
      ]
    },
    {
      "cell_type": "code",
      "source": [
        "a = 10*4*(1/2)\n",
        "b = 9 * 5 * (1/2)\n",
        "print(a==b)"
      ],
      "metadata": {
        "colab": {
          "base_uri": "https://localhost:8080/"
        },
        "id": "ItTMiKX9kU6a",
        "outputId": "04ba1c88-5356-44d1-87e6-416ea136dd40"
      },
      "execution_count": null,
      "outputs": [
        {
          "output_type": "stream",
          "name": "stdout",
          "text": [
            "False\n"
          ]
        }
      ]
    },
    {
      "cell_type": "code",
      "source": [
        "92 * 4 - 95 -88-90"
      ],
      "metadata": {
        "colab": {
          "base_uri": "https://localhost:8080/"
        },
        "id": "lbcF-eADk7_k",
        "outputId": "64c01568-8665-4baa-bde1-7a7bd20be150"
      },
      "execution_count": null,
      "outputs": [
        {
          "output_type": "execute_result",
          "data": {
            "text/plain": [
              "95"
            ]
          },
          "metadata": {},
          "execution_count": 13
        }
      ]
    },
    {
      "cell_type": "code",
      "source": [
        "a = 3\n",
        "\n",
        "if a==5:\n",
        "  print('right')\n",
        "  print('a is 5')\n",
        "if a ==3:\n",
        "  print('right')\n",
        "  print('a is 3')\n",
        "if a !=3:\n",
        "  print('right')\n",
        "  print('a is not 3')"
      ],
      "metadata": {
        "colab": {
          "base_uri": "https://localhost:8080/"
        },
        "id": "dzdV6u5Zk-8U",
        "outputId": "eb3b648b-a197-490e-909a-48846fd68004"
      },
      "execution_count": null,
      "outputs": [
        {
          "output_type": "stream",
          "name": "stdout",
          "text": [
            "right\n",
            "a is 3\n"
          ]
        }
      ]
    },
    {
      "cell_type": "code",
      "source": [
        "a = 5\n",
        "if a < 5:\n",
        "  print('a is smller than 5')\n",
        "elif a > 5:\n",
        "  print('a i larger than 5')\n",
        "else:\n",
        "  print('a is 5')"
      ],
      "metadata": {
        "colab": {
          "base_uri": "https://localhost:8080/"
        },
        "id": "R7D6v4MsmorK",
        "outputId": "452a95ac-be14-4cdd-c20e-6fd289de3130"
      },
      "execution_count": null,
      "outputs": [
        {
          "output_type": "stream",
          "name": "stdout",
          "text": [
            "a is 5\n"
          ]
        }
      ]
    },
    {
      "cell_type": "code",
      "source": [
        "a= 5\n",
        "i=1\n",
        "while i <=9:\n",
        "  print(str(a) + 'X' + str(i) + '=' + str(a*i))\n",
        "  i = i+1"
      ],
      "metadata": {
        "colab": {
          "base_uri": "https://localhost:8080/"
        },
        "id": "EX95N3BXnPHb",
        "outputId": "cb141b7e-8e54-4dd8-b253-1e2bd0e52aeb"
      },
      "execution_count": null,
      "outputs": [
        {
          "output_type": "stream",
          "name": "stdout",
          "text": [
            "5X1=5\n",
            "5X2=10\n",
            "5X3=15\n",
            "5X4=20\n",
            "5X5=25\n",
            "5X6=30\n",
            "5X7=35\n",
            "5X8=40\n",
            "5X9=45\n"
          ]
        }
      ]
    },
    {
      "cell_type": "code",
      "source": [
        "\n",
        "\n",
        "\n"
      ],
      "metadata": {
        "id": "hgmOJeTy6wB-"
      },
      "execution_count": null,
      "outputs": []
    },
    {
      "cell_type": "code",
      "source": [
        "\n",
        "print('음료목록 :  1.오렌지주스(100원), 2.커피(200원),3.콜라(300원)')\n",
        "coin = int(input('돈을 넣어주세요'))\n",
        "drink = int(input('음료를 선택해주세요'))\n",
        "\n",
        "if drink == 1:\n",
        "  if coin >= 100:\n",
        "    remain = coin - 100\n",
        "    print('오렌지주스가 곧 제공됩니다.')\n",
        "    print('거스름 돈은 ()입니다.', format(remain))\n",
        "  else :\n",
        "    print('잔액이 부족합니다')\n",
        "elif drink == 2:\n",
        "  if coin >= 200:\n",
        "    remain = coin - 200\n",
        "    print('커피가 곧 제공됩니다.')\n",
        "    print('거스름 돈은 ()입니다.', format(remain))\n",
        "  else :\n",
        "    print('잔액이 부족합니다')\n",
        "elif drink == 3:\n",
        "  if coin >= 300:\n",
        "    remain = coin - 300\n",
        "    print('커피가 곧 제공됩니다')\n",
        "    print('거스름 돈은 ()입니다', format(remain))\n",
        "else :\n",
        "  print('잘못된 선택입니다')"
      ],
      "metadata": {
        "colab": {
          "base_uri": "https://localhost:8080/"
        },
        "id": "XHFro90U84o4",
        "outputId": "f5ef652a-d887-484e-f558-307592c15917"
      },
      "execution_count": null,
      "outputs": [
        {
          "output_type": "stream",
          "name": "stdout",
          "text": [
            "음료목록 :  1.오렌지주스(100원), 2.커피(200원),3.콜라(300원)\n",
            "돈을 넣어주세요9879879879879798797\n",
            "음료를 선택해주세요56\n",
            "잘못된 선택입니다\n"
          ]
        }
      ]
    },
    {
      "cell_type": "code",
      "source": [
        "tuple1 = 1,2,3,4,5\n",
        "tuple2 = ('가','나','다','라','마')\n",
        "tuple3 = '파이썬', 1000, False\n",
        "tuple4 = '파이썬', (10000, '만큼', '어려워'), False\n",
        "\n",
        "print(tuple1, type(tuple1))\n",
        "print(tuple2, type(tuple2))\n",
        "print(tuple3, type(tuple3))\n",
        "print(tuple4, type(tuple4))"
      ],
      "metadata": {
        "colab": {
          "base_uri": "https://localhost:8080/"
        },
        "id": "GJLq8RyH_aim",
        "outputId": "24be455f-565f-4b76-dc8b-c199942e06bc"
      },
      "execution_count": null,
      "outputs": [
        {
          "output_type": "stream",
          "name": "stdout",
          "text": [
            "(1, 2, 3, 4, 5) <class 'tuple'>\n",
            "('가', '나', '다', '라', '마') <class 'tuple'>\n",
            "('파이썬', 1000, False) <class 'tuple'>\n",
            "('파이썬', (10000, '만큼', '어려워'), False) <class 'tuple'>\n"
          ]
        }
      ]
    },
    {
      "cell_type": "code",
      "source": [
        "tuple1 = 1,2,3,4,5\n",
        "tuple1[2] = 100\n",
        "print(tuple1)\n"
      ],
      "metadata": {
        "colab": {
          "base_uri": "https://localhost:8080/",
          "height": 185
        },
        "id": "NXzzTH2VBOdn",
        "outputId": "c55f6837-b715-400c-901a-3ca5f8d0e71d"
      },
      "execution_count": null,
      "outputs": [
        {
          "output_type": "error",
          "ename": "TypeError",
          "evalue": "'tuple' object does not support item assignment",
          "traceback": [
            "\u001b[0;31m---------------------------------------------------------------------------\u001b[0m",
            "\u001b[0;31mTypeError\u001b[0m                                 Traceback (most recent call last)",
            "\u001b[0;32m<ipython-input-32-8f84d63d6cae>\u001b[0m in \u001b[0;36m<cell line: 2>\u001b[0;34m()\u001b[0m\n\u001b[1;32m      1\u001b[0m \u001b[0mtuple1\u001b[0m \u001b[0;34m=\u001b[0m \u001b[0;36m1\u001b[0m\u001b[0;34m,\u001b[0m\u001b[0;36m2\u001b[0m\u001b[0;34m,\u001b[0m\u001b[0;36m3\u001b[0m\u001b[0;34m,\u001b[0m\u001b[0;36m4\u001b[0m\u001b[0;34m,\u001b[0m\u001b[0;36m5\u001b[0m\u001b[0;34m\u001b[0m\u001b[0;34m\u001b[0m\u001b[0m\n\u001b[0;32m----> 2\u001b[0;31m \u001b[0mtuple1\u001b[0m\u001b[0;34m[\u001b[0m\u001b[0;36m2\u001b[0m\u001b[0;34m]\u001b[0m \u001b[0;34m=\u001b[0m \u001b[0;36m100\u001b[0m\u001b[0;34m\u001b[0m\u001b[0;34m\u001b[0m\u001b[0m\n\u001b[0m\u001b[1;32m      3\u001b[0m \u001b[0mprint\u001b[0m\u001b[0;34m(\u001b[0m\u001b[0mtuple1\u001b[0m\u001b[0;34m)\u001b[0m\u001b[0;34m\u001b[0m\u001b[0;34m\u001b[0m\u001b[0m\n",
            "\u001b[0;31mTypeError\u001b[0m: 'tuple' object does not support item assignment"
          ]
        }
      ]
    },
    {
      "cell_type": "code",
      "source": [
        "tuple1=1,2,3,4,5\n",
        "print(len(tuple1))"
      ],
      "metadata": {
        "colab": {
          "base_uri": "https://localhost:8080/"
        },
        "id": "h7B4z50rB_zp",
        "outputId": "d0cde927-7122-4ce9-95ce-30f0dc2e44bb"
      },
      "execution_count": null,
      "outputs": [
        {
          "output_type": "stream",
          "name": "stdout",
          "text": [
            "5\n"
          ]
        }
      ]
    },
    {
      "cell_type": "code",
      "source": [
        "set1 = {1,2,3,'가','나','다', 1,2}\n",
        "set2 = set([1,2,3,'가','나','다', 1,2])\n",
        "set3 = set([1,2,3,'가','나','다', 3])\n",
        "\n",
        "print(set1, type(set1))\n",
        "print(set2, type(set2))\n",
        "print(set3, type(set3))"
      ],
      "metadata": {
        "colab": {
          "base_uri": "https://localhost:8080/"
        },
        "id": "nyZh4n30CRZo",
        "outputId": "0ab67e34-c130-4495-e567-29438b46a440"
      },
      "execution_count": null,
      "outputs": [
        {
          "output_type": "stream",
          "name": "stdout",
          "text": [
            "{1, '다', 2, 3, '가', '나'} <class 'set'>\n",
            "{1, 2, 3, '가', '다', '나'} <class 'set'>\n",
            "{1, 2, 3, '가', '다', '나'} <class 'set'>\n"
          ]
        }
      ]
    },
    {
      "cell_type": "code",
      "source": [
        "from sys import set_coroutine_origin_tracking_depth\n",
        "set1 ={1,2,3, '가','나','다'}\n",
        "set1.add('추가')\n",
        "print(set1)\n",
        "\n",
        "set1.remove('가')\n",
        "print(set1)\n",
        "\n",
        "set_copy_1 =set1.copy()\n",
        "print(set_copy_1)\n",
        "\n",
        "set_copy_1.clear()\n",
        "print(set_copy_1)"
      ],
      "metadata": {
        "colab": {
          "base_uri": "https://localhost:8080/"
        },
        "id": "zFY2lqDdDgxG",
        "outputId": "32078495-a327-4d6e-db94-c071e72a6591"
      },
      "execution_count": null,
      "outputs": [
        {
          "output_type": "stream",
          "name": "stdout",
          "text": [
            "{1, '다', 2, 3, '가', '추가', '나'}\n",
            "{1, '다', 2, 3, '추가', '나'}\n",
            "{1, '다', 2, 3, '추가', '나'}\n",
            "set()\n"
          ]
        }
      ]
    },
    {
      "cell_type": "code",
      "source": [
        "list1 = [1,2,3,4,5,1,3]\n",
        "list2 = []\n",
        "print(list1)\n",
        "print(list2)\n",
        "print(len(list1))\n",
        "\n",
        "list1[3] = 9999\n",
        "print(list1)\n",
        "list1.append(100)\n",
        "print(list1)\n",
        "list1.insert(0,777)\n",
        "print(list1)\n",
        "list2=list1.copy()\n",
        "print(list2)"
      ],
      "metadata": {
        "colab": {
          "base_uri": "https://localhost:8080/"
        },
        "id": "I1kczc9iH1Mb",
        "outputId": "59165aed-e7e0-484f-eb5b-c535156237c6"
      },
      "execution_count": null,
      "outputs": [
        {
          "output_type": "stream",
          "name": "stdout",
          "text": [
            "[1, 2, 3, 4, 5, 1, 3]\n",
            "[]\n",
            "7\n",
            "[1, 2, 3, 9999, 5, 1, 3]\n",
            "[1, 2, 3, 9999, 5, 1, 3, 100]\n",
            "[777, 1, 2, 3, 9999, 5, 1, 3, 100]\n",
            "[777, 1, 2, 3, 9999, 5, 1, 3, 100]\n"
          ]
        }
      ]
    },
    {
      "cell_type": "code",
      "source": [
        "list1 = ['양배추']\n",
        "print('1:보관 식재료 출력','2:식재료 추가','3:식재료삭제','4:식재료변경','5:종료')\n",
        "menu = int(input('메뉴를 선택해주세요 : '))\n",
        "if menu == 1 :\n",
        "  print(list1)\n",
        "\n",
        "elif menu == 2 :\n",
        "  add = input('추가할 식재료를 입력해주세요 : ')\n",
        "  list1.append(add)\n",
        "  print(list1)\n",
        "\n",
        "elif menu == 3 :\n",
        "  remove = input('삭제할 식재료를 입력해주세요 : ')\n",
        "  list1.remove(remove)\n",
        "  print(list1)\n",
        "\n",
        "elif menu == 4 :\n",
        "  change = input('변경할 식재료를 입력해주세요 : ')\n",
        "  list1.remove(change)\n",
        "  add = input('추가할 식재료를 입력해주세요 : ')\n",
        "  list1.append(add)\n",
        "  print(list1)\n",
        "\n",
        "elif menu == 5 :\n",
        "  print('종료')\n",
        "\n",
        "else :\n",
        "  print('잘못된 선택입니다')\n"
      ],
      "metadata": {
        "colab": {
          "base_uri": "https://localhost:8080/"
        },
        "id": "Zk9SLuIxKXHS",
        "outputId": "0a1d2164-478c-48a3-8026-96943a6b8f09"
      },
      "execution_count": null,
      "outputs": [
        {
          "output_type": "stream",
          "name": "stdout",
          "text": [
            "1:보관 식재료 출력 2:식재료 추가 3:식재료삭제 4:식재료변경 5:종료\n",
            "메뉴를 선택해주세요 : 1\n",
            "['양배추']\n"
          ]
        }
      ]
    },
    {
      "cell_type": "code",
      "source": [],
      "metadata": {
        "id": "xc9jv5INOe3z"
      },
      "execution_count": null,
      "outputs": []
    }
  ]
}