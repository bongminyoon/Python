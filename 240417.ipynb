{
  "nbformat": 4,
  "nbformat_minor": 0,
  "metadata": {
    "colab": {
      "provenance": [],
      "authorship_tag": "ABX9TyN7o24TL3I7fFOt9BJ9m4um",
      "include_colab_link": true
    },
    "kernelspec": {
      "name": "python3",
      "display_name": "Python 3"
    },
    "language_info": {
      "name": "python"
    }
  },
  "cells": [
    {
      "cell_type": "markdown",
      "metadata": {
        "id": "view-in-github",
        "colab_type": "text"
      },
      "source": [
        "<a href=\"https://colab.research.google.com/github/bongminyoon/bong/blob/main/240417.ipynb\" target=\"_parent\"><img src=\"https://colab.research.google.com/assets/colab-badge.svg\" alt=\"Open In Colab\"/></a>"
      ]
    },
    {
      "cell_type": "code",
      "execution_count": null,
      "metadata": {
        "colab": {
          "base_uri": "https://localhost:8080/"
        },
        "id": "4wWnP1rU-CP-",
        "outputId": "11b2cdcf-ae33-4c07-f26a-2b13ed63f637"
      },
      "outputs": [
        {
          "output_type": "stream",
          "name": "stdout",
          "text": [
            "78,900\n"
          ]
        }
      ],
      "source": [
        "#실시간 주가 조회 프로그램\n",
        "\n",
        "import requests\n",
        "from bs4 import BeautifulSoup\n",
        "\n",
        "code = '005930'\n",
        "url = f'https://finance.naver.com/item/main.nhn?code={code}'\n",
        "\n",
        "res = requests.get(url)\n",
        "soup = BeautifulSoup(res.content, 'html.parser')\n",
        "market_cap = soup.select_one('#content > div.section.trade_compare > table > tbody > tr:nth-child(1) > td:nth-child(2)')\n",
        "print(market_cap.text)\n"
      ]
    },
    {
      "cell_type": "code",
      "source": [
        "#종목 번호 입력해서 주식시세 조회\n",
        "\n",
        "import requests\n",
        "from bs4 import BeautifulSoup\n",
        "\n",
        "code = input(\"종목 번호를 입력하세요: \")\n",
        "url = f'http://finance.naver.com/item/main.nhn?code={code}'\n",
        "\n",
        "res = requests.get(url)\n",
        "soup = BeautifulSoup(res.content, 'html.parser')\n",
        "price = soup.select_one('#content > div.section.trade_compare > table > tbody > tr:nth-child(1) > td:nth-child(2)')\n",
        "print(f\"현재 {code} 주가는 {price.text}입니다\")"
      ],
      "metadata": {
        "colab": {
          "base_uri": "https://localhost:8080/"
        },
        "id": "hLqKrrwM-H6G",
        "outputId": "20a91b9b-c92b-4571-fd0e-7e2519612eef"
      },
      "execution_count": null,
      "outputs": [
        {
          "output_type": "stream",
          "name": "stdout",
          "text": [
            "종목 번호를 입력하세요: 005930\n",
            "현재 005930 주가는 78,900입니다\n"
          ]
        }
      ]
    }
  ]
}