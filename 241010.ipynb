{
  "nbformat": 4,
  "nbformat_minor": 0,
  "metadata": {
    "colab": {
      "provenance": [],
      "authorship_tag": "ABX9TyOaQXWubwbhrwOZOuRg/epK",
      "include_colab_link": true
    },
    "kernelspec": {
      "name": "python3",
      "display_name": "Python 3"
    },
    "language_info": {
      "name": "python"
    }
  },
  "cells": [
    {
      "cell_type": "markdown",
      "metadata": {
        "id": "view-in-github",
        "colab_type": "text"
      },
      "source": [
        "<a href=\"https://colab.research.google.com/github/bongminyoon/bong/blob/main/241010.ipynb\" target=\"_parent\"><img src=\"https://colab.research.google.com/assets/colab-badge.svg\" alt=\"Open In Colab\"/></a>"
      ]
    },
    {
      "cell_type": "code",
      "execution_count": null,
      "metadata": {
        "id": "piZLI7I4gbCw"
      },
      "outputs": [],
      "source": [
        "import numpy as np\n",
        "\n",
        "wi1 = np.array([-2, -2])\n",
        "wi2 = np.array([2, 2])\n",
        "w2 = np.array([1, 1])\n",
        "b1 = 3\n",
        "b2 = -1\n",
        "b3 = -1"
      ]
    },
    {
      "cell_type": "code",
      "source": [
        "def MLP(x,w,b):\n",
        "    y = np.sum(x * w) + b\n",
        "    if y <= 0:\n",
        "        return 0\n",
        "    else:\n",
        "        return 1"
      ],
      "metadata": {
        "id": "TfmoXFGshUk9"
      },
      "execution_count": null,
      "outputs": []
    },
    {
      "cell_type": "code",
      "source": [
        "def NAND(x1, x2):\n",
        "  return MLP(np.array([x1, x2]), wi1, b1)\n",
        "\n",
        "def OR(x1, x2):\n",
        "  return MLP(np.array([x1, x2]), wi2, b2)\n",
        "\n",
        "def AND(x1, x2):\n",
        "  return MLP(np.array([x1, x2]), w2, b3)"
      ],
      "metadata": {
        "id": "OxFEYBVqiW0B"
      },
      "execution_count": null,
      "outputs": []
    },
    {
      "cell_type": "code",
      "source": [
        "def XOR(x1, x2):\n",
        "  return AND(NAND(x1, x2), OR(x1, x2))\n",
        "\n"
      ],
      "metadata": {
        "id": "AG-gPNrCiwLH"
      },
      "execution_count": null,
      "outputs": []
    },
    {
      "cell_type": "code",
      "source": [
        "for x in [(0, 0), (1, 0), (0, 1), (1, 1)]:\n",
        "  y = XOR(x[0], x[1])\n",
        "  print(\"입력 값: \" + str(x) + \"출력 값: \" + str(y))6"
      ],
      "metadata": {
        "colab": {
          "base_uri": "https://localhost:8080/"
        },
        "id": "kOiLOzedi0qH",
        "outputId": "f5566e03-7ad2-4ba9-8eb9-1b04eeb53dd1"
      },
      "execution_count": null,
      "outputs": [
        {
          "output_type": "stream",
          "name": "stdout",
          "text": [
            "입력 값: (0, 0)출력 값: 0\n",
            "입력 값: (1, 0)출력 값: 1\n",
            "입력 값: (0, 1)출력 값: 1\n",
            "입력 값: (1, 1)출력 값: 0\n"
          ]
        }
      ]
    }
  ]
}