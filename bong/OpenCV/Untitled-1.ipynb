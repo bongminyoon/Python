{
 "cells": [
  {
   "cell_type": "code",
   "execution_count": 1,
   "metadata": {},
   "outputs": [
    {
     "name": "stdout",
     "output_type": "stream",
     "text": [
      "Collecting opencv-python\n",
      "  Downloading opencv_python-4.9.0.80-cp37-abi3-win_amd64.whl.metadata (20 kB)\n",
      "Collecting numpy>=1.21.2 (from opencv-python)\n",
      "  Downloading numpy-1.26.4-cp312-cp312-win_amd64.whl.metadata (61 kB)\n",
      "     ---------------------------------------- 0.0/61.0 kB ? eta -:--:--\n",
      "     -------------------------- ------------- 41.0/61.0 kB 1.9 MB/s eta 0:00:01\n",
      "     ---------------------------------------- 61.0/61.0 kB 1.6 MB/s eta 0:00:00\n",
      "Downloading opencv_python-4.9.0.80-cp37-abi3-win_amd64.whl (38.6 MB)\n",
      "   ---------------------------------------- 0.0/38.6 MB ? eta -:--:--\n",
      "   ---------------------------------------- 0.3/38.6 MB 7.9 MB/s eta 0:00:05\n",
      "    --------------------------------------- 0.7/38.6 MB 8.9 MB/s eta 0:00:05\n",
      "   - -------------------------------------- 1.3/38.6 MB 10.2 MB/s eta 0:00:04\n",
      "   -- ------------------------------------- 2.2/38.6 MB 12.5 MB/s eta 0:00:03\n",
      "   --- ------------------------------------ 3.4/38.6 MB 15.3 MB/s eta 0:00:03\n",
      "   ----- ---------------------------------- 4.9/38.6 MB 18.4 MB/s eta 0:00:02\n",
      "   ------- -------------------------------- 7.0/38.6 MB 22.2 MB/s eta 0:00:02\n",
      "   ---------- ----------------------------- 10.0/38.6 MB 27.7 MB/s eta 0:00:02\n",
      "   ------------- -------------------------- 12.9/38.6 MB 46.9 MB/s eta 0:00:01\n",
      "   ------------------ --------------------- 17.8/38.6 MB 81.8 MB/s eta 0:00:01\n",
      "   ----------------------- ---------------- 22.5/38.6 MB 108.8 MB/s eta 0:00:01\n",
      "   ---------------------------- ----------- 27.9/38.6 MB 110.0 MB/s eta 0:00:01\n",
      "   ---------------------------------- ----- 33.0/38.6 MB 131.2 MB/s eta 0:00:01\n",
      "   ------------------------------------- -- 36.7/38.6 MB 108.8 MB/s eta 0:00:01\n",
      "   ---------------------------------------  38.6/38.6 MB 108.8 MB/s eta 0:00:01\n",
      "   ---------------------------------------- 38.6/38.6 MB 65.6 MB/s eta 0:00:00\n",
      "Downloading numpy-1.26.4-cp312-cp312-win_amd64.whl (15.5 MB)\n",
      "   ---------------------------------------- 0.0/15.5 MB ? eta -:--:--\n",
      "   ---------- ----------------------------- 4.2/15.5 MB 90.2 MB/s eta 0:00:01\n",
      "   ----------------------- ---------------- 9.1/15.5 MB 96.7 MB/s eta 0:00:01\n",
      "   ------------------------------------ --- 14.2/15.5 MB 108.8 MB/s eta 0:00:01\n",
      "   ---------------------------------------- 15.5/15.5 MB 92.9 MB/s eta 0:00:00\n",
      "Installing collected packages: numpy, opencv-python\n",
      "Successfully installed numpy-1.26.4 opencv-python-4.9.0.80\n",
      "Note: you may need to restart the kernel to use updated packages.\n"
     ]
    }
   ],
   "source": [
    "pip install opencv-python"
   ]
  },
  {
   "cell_type": "code",
   "execution_count": 2,
   "metadata": {},
   "outputs": [
    {
     "data": {
      "text/plain": [
       "'4.8.0'"
      ]
     },
     "execution_count": 2,
     "metadata": {},
     "output_type": "execute_result"
    }
   ],
   "source": [
    "import cv2\n",
    "cv2.__version__"
   ]
  },
  {
   "cell_type": "code",
   "execution_count": 2,
   "metadata": {},
   "outputs": [
    {
     "name": "stderr",
     "output_type": "stream",
     "text": [
      "<>:2: SyntaxWarning: invalid escape sequence '\\O'\n",
      "<>:2: SyntaxWarning: invalid escape sequence '\\O'\n",
      "C:\\Users\\user04\\AppData\\Local\\Temp\\ipykernel_9088\\1606034405.py:2: SyntaxWarning: invalid escape sequence '\\O'\n",
      "  img = cv2.impread('D:\\bong\\OpenCV\\cat.jpg')\n",
      "C:\\Users\\user04\\AppData\\Local\\Temp\\ipykernel_9088\\1606034405.py:2: SyntaxWarning: invalid escape sequence '\\O'\n",
      "  img = cv2.impread('D:\\bong\\OpenCV\\cat.jpg')\n"
     ]
    },
    {
     "ename": "AttributeError",
     "evalue": "module 'cv2' has no attribute 'impread'",
     "output_type": "error",
     "traceback": [
      "\u001b[1;31m---------------------------------------------------------------------------\u001b[0m",
      "\u001b[1;31mAttributeError\u001b[0m                            Traceback (most recent call last)",
      "Cell \u001b[1;32mIn[2], line 2\u001b[0m\n\u001b[0;32m      1\u001b[0m \u001b[38;5;28;01mimport\u001b[39;00m \u001b[38;5;21;01mcv2\u001b[39;00m\n\u001b[1;32m----> 2\u001b[0m img \u001b[38;5;241m=\u001b[39m \u001b[43mcv2\u001b[49m\u001b[38;5;241;43m.\u001b[39;49m\u001b[43mimpread\u001b[49m(\u001b[38;5;124m'\u001b[39m\u001b[38;5;124mD:\u001b[39m\u001b[38;5;130;01m\\b\u001b[39;00m\u001b[38;5;124mong\u001b[39m\u001b[38;5;124m\\\u001b[39m\u001b[38;5;124mOpenCV\u001b[39m\u001b[38;5;124m\\\u001b[39m\u001b[38;5;124mcat.jpg\u001b[39m\u001b[38;5;124m'\u001b[39m)\n\u001b[0;32m      3\u001b[0m cv2\u001b[38;5;241m.\u001b[39mimshow(\u001b[38;5;124m'\u001b[39m\u001b[38;5;124mCAT.jpg\u001b[39m\u001b[38;5;124m'\u001b[39m, img)\n\u001b[0;32m      4\u001b[0m cv2\u001b[38;5;241m.\u001b[39mwaitKey(\u001b[38;5;241m0\u001b[39m)\n",
      "\u001b[1;31mAttributeError\u001b[0m: module 'cv2' has no attribute 'impread'"
     ]
    }
   ],
   "source": [
    "import cv2\n",
    "img = cv2.impread('D:\\bong\\OpenCV\\cat.jpg')\n",
    "cv2.imshow('CAT.jpg', img)\n",
    "cv2.waitKey(0)\n",
    "cv2.destroyALLWindows()"
   ]
  }
 ],
 "metadata": {
  "kernelspec": {
   "display_name": "base",
   "language": "python",
   "name": "python3"
  },
  "language_info": {
   "codemirror_mode": {
    "name": "ipython",
    "version": 3
   },
   "file_extension": ".py",
   "mimetype": "text/x-python",
   "name": "python",
   "nbconvert_exporter": "python",
   "pygments_lexer": "ipython3",
   "version": "3.12.2"
  }
 },
 "nbformat": 4,
 "nbformat_minor": 2
}
