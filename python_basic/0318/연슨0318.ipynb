{
 "cells": [
  {
   "cell_type": "code",
   "execution_count": 10,
   "metadata": {},
   "outputs": [
    {
     "name": "stdout",
     "output_type": "stream",
     "text": [
      "hello python world!!\n"
     ]
    }
   ],
   "source": [
    "\n",
    "print(\"hello python world!!\")"
   ]
  },
  {
   "cell_type": "code",
   "execution_count": 11,
   "metadata": {},
   "outputs": [
    {
     "name": "stdout",
     "output_type": "stream",
     "text": [
      "a\n",
      "abcdef\n",
      "1\n",
      "123.456\n"
     ]
    }
   ],
   "source": [
    "# %%\n",
    "a = 'a'\n",
    "print(a)\n",
    "a = 'abcdef'\n",
    "print(a)\n",
    "a= 1\n",
    "print(a)\n",
    "a = 123.456\n",
    "print(a)\n",
    "# %%\n",
    "\n",
    "\n"
   ]
  },
  {
   "cell_type": "code",
   "execution_count": 12,
   "metadata": {},
   "outputs": [
    {
     "name": "stdout",
     "output_type": "stream",
     "text": [
      "(a)+(b) = (c)\n"
     ]
    }
   ],
   "source": [
    "a = 1\n",
    "b = 2\n",
    "c= a + b\n",
    "print(f'(a)+(b) = (c)')\n",
    "\n",
    "\n",
    "b = 1000\n",
    "c = a + b\n",
    "print(f'(a)+(b) = (c)')"
   ]
  },
  {
   "cell_type": "markdown",
   "metadata": {},
   "source": [
    "a = {1,2,3,4,5,}\n",
    "print(a, type(a))\n",
    "\n",
    "a= (1,2,3,4,5)\n",
    "print(a, type(a))\n",
    "\n",
    "a = ('a':1 'b':2 'c' :3)"
   ]
  },
  {
   "cell_type": "code",
   "execution_count": 15,
   "metadata": {},
   "outputs": [
    {
     "name": "stdout",
     "output_type": "stream",
     "text": [
      "{1, 2, 3, 4, 5} <class 'set'>\n",
      "(1, 2, 3, 4, 5) <class 'tuple'>\n",
      "{'a': 1, 'b': 2, 'c': 3, 'd': 4, 'e': 5} <class 'dict'>\n"
     ]
    }
   ],
   "source": [
    "a = {1,2,3,4,5,}\n",
    "print(a, type(a))\n",
    "\n",
    "a= (1,2,3,4,5)\n",
    "print(a, type(a))\n",
    "\n",
    "a = {'a':1, 'b':2, 'c':3, 'd':4, 'e':5}\n",
    "print(a, type(a))"
   ]
  },
  {
   "cell_type": "code",
   "execution_count": null,
   "metadata": {},
   "outputs": [],
   "source": [
    "\n",
    "**\n",
    "python = c/c++\n",
    "2*2 = 2^2 .... 4\n",
    "2**3 = 2^3 ... 8\n",
    "\n",
    "\n",
    "\n",
    "# //\n",
    "//\n",
    "python = c/c++\n",
    "5/2 = float(5.0\\2) ... 2.5\n",
    "5//2 = 5/2 ...  2\n",
    "\n",
    "\n",
    "\n"
   ]
  },
  {
   "cell_type": "code",
   "execution_count": 35,
   "metadata": {},
   "outputs": [
    {
     "name": "stdout",
     "output_type": "stream",
     "text": [
      "this is calculation program 2024-03-18\n",
      "10 <class 'int'>\n",
      "20 <class 'int'>\n",
      "140 <class 'int'>\n",
      "10-20 = -10\n"
     ]
    },
    {
     "data": {
      "text/plain": [
       "\"\\nswitch (op)\\n case '+'  \\n    c = a+b\\n case '-'  \\n    c = a-b\\n case '*'  \\n    c = a*b\\n\""
      ]
     },
     "execution_count": 35,
     "metadata": {},
     "output_type": "execute_result"
    }
   ],
   "source": [
    "#%%\n",
    "print('this is calculation program 2024-03-18')\n",
    "a = input('in a : ')\n",
    "a = int(a)#type-casting : str to int\n",
    "print(a, type(a))\n",
    "b = input('in b : ')\n",
    "b = int(b)#type-casting : str to int\n",
    "print(b, type(b))\n",
    "op = input('in op(+,-,*,/,//,**) : ')\n",
    "\n",
    "print(c, type(c))\n",
    "## 제어문{조건문,반복문} ... if from python <-> if / switch from c/c++\n",
    "#print(op == '+')\n",
    "if (op == '+'):#만약에 True 조건이면\n",
    "  c = a+b\n",
    "elif (op == '-'):#만약에 True 조건이면\n",
    "  c = a-b\n",
    "elif (op == '*'):#만약에 True 조건이면\n",
    "  c = a*b\n",
    "elif (op == '/'):#만약에 True 조건이면\n",
    "  c = a/b\n",
    "elif (op == '//'):#만약에 True 조건이면\n",
    "  c = a//b\n",
    "elif (op == '**'):#만약에 True 조건이면\n",
    "  c = a**b\n",
    "else:#다 아니면 \n",
    "  print('만족하는 Op가 없습니다.')\n",
    "\n",
    "print(f\"{a}{op}{b} = {c}\")\n",
    " "
   ]
  },
  {
   "cell_type": "code",
   "execution_count": null,
   "metadata": {},
   "outputs": [],
   "source": [
    "a = 10\n",
    "if a >= 10 :\n",
    "    print('a는 10보다 크거나 같습니다.')\n",
    "else:\n",
    "    print('a는 10보다 작습니다.')\n",
    "\n",
    "for i in range(0, 9+1, 1):\n",
    "    print(i)\n",
    "for i in [1,2,3,]:\n",
    "    print(i)\n",
    "for i in (1,2,3,):\n",
    "    print(i)\n",
    "\n"
   ]
  }
 ],
 "metadata": {
  "kernelspec": {
   "display_name": "base",
   "language": "python",
   "name": "python3"
  },
  "language_info": {
   "codemirror_mode": {
    "name": "ipython",
    "version": 3
   },
   "file_extension": ".py",
   "mimetype": "text/x-python",
   "name": "python",
   "nbconvert_exporter": "python",
   "pygments_lexer": "ipython3",
   "version": "3.9.13"
  }
 },
 "nbformat": 4,
 "nbformat_minor": 2
}
