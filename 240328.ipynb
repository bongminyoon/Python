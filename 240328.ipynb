{
  "nbformat": 4,
  "nbformat_minor": 0,
  "metadata": {
    "colab": {
      "provenance": [],
      "authorship_tag": "ABX9TyMcKQnIpnPg8pu528usw99O",
      "include_colab_link": true
    },
    "kernelspec": {
      "name": "python3",
      "display_name": "Python 3"
    },
    "language_info": {
      "name": "python"
    }
  },
  "cells": [
    {
      "cell_type": "markdown",
      "metadata": {
        "id": "view-in-github",
        "colab_type": "text"
      },
      "source": [
        "<a href=\"https://colab.research.google.com/github/bongminyoon/bong/blob/main/240328.ipynb\" target=\"_parent\"><img src=\"https://colab.research.google.com/assets/colab-badge.svg\" alt=\"Open In Colab\"/></a>"
      ]
    },
    {
      "source": [
        "from google.colab.patches import cv2_imshow\n",
        "import cv2\n",
        "import os\n",
        "\n",
        "# 이미지 파일 경로\n",
        "image_path = '/content/robot2.jpg'\n",
        "\n",
        "# 이미지 불러오기\n",
        "# Check if the file exists before trying to read it\n",
        "if os.path.exists(image_path):\n",
        "    image = cv2.imread(image_path)\n",
        "else:\n",
        "    print(f\"Error: Image file not found at {image_path}\")\n",
        "    # Handle the error appropriately, e.g., exit the program or use a default image\n",
        "\n",
        "# If image loaded successfully, proceed with the rest of the code\n",
        "if image is not None:\n",
        "    # 얼굴 검출을 위한 Haar Cascade 분류기 불러오기\n",
        "    face_cascade = cv2.CascadeClassifier(cv2.data.haarcascades + 'haarcascade_frontalface_default.xml')\n",
        "\n",
        "    # 그레이스케일로 변환\n",
        "    gray_image = cv2.cvtColor(image, cv2.COLOR_BGR2GRAY)\n",
        "\n",
        "    # 얼굴 검출\n",
        "    faces = face_cascade.detectMultiScale(gray_image, scaleFactor=1.1, minNeighbors=5, minSize=(30, 30))\n",
        "\n",
        "    # 검출된 얼굴 주변에 사각형 그리기\n",
        "    for (x, y, w, h) in faces:\n",
        "        cv2.rectangle(image, (x, y), (x+w, y+h), (0, 255, 0), 2)\n",
        "\n",
        "    # 결과 이미지 출력\n",
        "    cv2_imshow(image)\n",
        "    cv2.waitKey(0)\n",
        "    cv2.destroyAllWindows()\n",
        "else:\n",
        "    print(\"Error: Could not load image. Exiting program.\")"
      ],
      "cell_type": "code",
      "metadata": {
        "colab": {
          "base_uri": "https://localhost:8080/",
          "height": 81
        },
        "id": "rlRfWQg4OWe9",
        "outputId": "e1761879-a22f-4b27-ecdd-87b2ecfffae0"
      },
      "execution_count": 6,
      "outputs": [
        {
          "output_type": "display_data",
          "data": {
            "text/plain": [
              "<PIL.Image.Image image mode=RGB size=64x64>"
            ],
            "image/png": "[encoded data removed]",
            "image/jpeg": "[encoded data removed]"
          },
          "metadata": {}
        }
      ]
    }
  ]
}